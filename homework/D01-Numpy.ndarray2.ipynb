{
 "cells": [
  {
   "cell_type": "markdown",
   "metadata": {},
   "source": [
    "作業目標:<br>\n",
    "在array中，可以靈活應用索引幫助資料擷取<br>\n",
    "作業重點:<br>\n",
    "陣列的索引、切片、以及屬性，皆需要注意使用方式<br>\n",
    "陣列之中索引式由0開始請同學注意"
   ]
  },
  {
   "cell_type": "markdown",
   "metadata": {},
   "source": [
    "題目:<br>\n",
    "1.生成一個等差數列，首數為0，尾數為20，公差為1的數列。<br>\n",
    "2.呈上題，將以上數列取出偶數。<br>\n",
    "3.呈1題，將數列取出3的倍數。<br>"
   ]
  },
  {
   "cell_type": "code",
   "execution_count": 2,
   "metadata": {},
   "outputs": [],
   "source": [
    "import numpy as np"
   ]
  },
  {
   "cell_type": "code",
   "execution_count": 3,
   "metadata": {},
   "outputs": [
    {
     "data": {
      "text/plain": [
       "'1.19.2'"
      ]
     },
     "execution_count": 3,
     "metadata": {},
     "output_type": "execute_result"
    }
   ],
   "source": [
    "np.__version__"
   ]
  },
  {
   "cell_type": "code",
   "execution_count": 19,
   "metadata": {},
   "outputs": [
    {
     "name": "stdout",
     "output_type": "stream",
     "text": [
      "[0.0, 1.0, 2.0, 3.0, 4.0, 5.0, 6.0, 7.0, 8.0, 9.0, 10.0, 11.0, 12.0, 13.0, 14.0, 15.0, 16.0, 17.0, 18.0, 19.0, 20.0]\n"
     ]
    }
   ],
   "source": [
    "#1.生成一個等差數列，首數為0，尾數為20，公差為1的數列。\n",
    "ArithmeticSequence = np.linspace(0,20,21);\n",
    "arr_ArithmeticSequence = [i for i in ArithmeticSequence]\n",
    "print(arr_ArithmeticSequence);"
   ]
  },
  {
   "cell_type": "code",
   "execution_count": 23,
   "metadata": {},
   "outputs": [
    {
     "name": "stdout",
     "output_type": "stream",
     "text": [
      "0.0\n",
      "2.0\n",
      "4.0\n",
      "6.0\n",
      "8.0\n",
      "10.0\n",
      "12.0\n",
      "14.0\n",
      "16.0\n",
      "18.0\n",
      "20.0\n"
     ]
    }
   ],
   "source": [
    "#2.呈上題，將以上數列取出偶數。\n",
    "for data in arr_ArithmeticSequence:\n",
    "    if(data%2 == 0):\n",
    "        print(data)\n"
   ]
  },
  {
   "cell_type": "code",
   "execution_count": 25,
   "metadata": {},
   "outputs": [
    {
     "name": "stdout",
     "output_type": "stream",
     "text": [
      "0.0\n",
      "3.0\n",
      "6.0\n",
      "9.0\n",
      "12.0\n",
      "15.0\n",
      "18.0\n"
     ]
    }
   ],
   "source": [
    "#3.呈1題，將數列取出3的倍數。\n",
    "for data in arr_ArithmeticSequence:\n",
    "    if(data%3 == 0):\n",
    "        print(data)"
   ]
  },
  {
   "cell_type": "code",
   "execution_count": null,
   "metadata": {},
   "outputs": [],
   "source": []
  }
 ],
 "metadata": {
  "kernelspec": {
   "display_name": "Python 3",
   "language": "python",
   "name": "python3"
  },
  "language_info": {
   "codemirror_mode": {
    "name": "ipython",
    "version": 3
   },
   "file_extension": ".py",
   "mimetype": "text/x-python",
   "name": "python",
   "nbconvert_exporter": "python",
   "pygments_lexer": "ipython3",
   "version": "3.8.5"
  }
 },
 "nbformat": 4,
 "nbformat_minor": 4
}
